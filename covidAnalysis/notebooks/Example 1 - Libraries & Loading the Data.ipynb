{
 "cells": [
  {
   "cell_type": "markdown",
   "id": "f7330eea",
   "metadata": {},
   "source": [
    "# Libraries and loading the dataset\n",
    "In this first part of the examples we provide we will look at how to load in the dataset, and how to do some basic\n",
    "manipulation of the data. In order to run the code in this notebook you will need to install, besides Jupyter, the\n",
    "[Pandas](https://pandas.pydata.org/docs/getting_started/index.html#installation) package.\n",
    "\n",
    "For more info on how to set up the Python environment for these notebooks, see README.md.\n",
    "\n",
    "## Getting an overview of the data\n",
    "Whenever you get a dataset you will want to inspect it and see what variables (columns) you have and what these values\n",
    "look like. One way of doing this is to use the package [Pandas](https://pandas.pydata.org/docs/getting_started/overview.html),\n",
    "a package that allows for easy manipulation of the data table (or dataframe, as it is called in Pandas).\n",
    "\n",
    "For a quick overview of Pandas' capabilities, check out [this](https://pandas.pydata.org/docs/user_guide/10min.html#min)\n",
    "link."
   ]
  },
  {
   "cell_type": "code",
   "execution_count": 1,
   "id": "cc64efb6",
   "metadata": {},
   "outputs": [
    {
     "name": "stdout",
     "output_type": "stream",
     "text": [
      "<class 'pandas.core.frame.DataFrame'>\n",
      "RangeIndex: 83862 entries, 0 to 83861\n",
      "Data columns (total 59 columns):\n",
      " #   Column                                 Non-Null Count  Dtype  \n",
      "---  ------                                 --------------  -----  \n",
      " 0   iso_code                               83862 non-null  object \n",
      " 1   continent                              79805 non-null  object \n",
      " 2   location                               83862 non-null  object \n",
      " 3   date                                   83862 non-null  object \n",
      " 4   total_cases                            81878 non-null  float64\n",
      " 5   new_cases                              81876 non-null  float64\n",
      " 6   new_cases_smoothed                     80875 non-null  float64\n",
      " 7   total_deaths                           72262 non-null  float64\n",
      " 8   new_deaths                             72420 non-null  float64\n",
      " 9   new_deaths_smoothed                    80875 non-null  float64\n",
      " 10  total_cases_per_million                81435 non-null  float64\n",
      " 11  new_cases_per_million                  81433 non-null  float64\n",
      " 12  new_cases_smoothed_per_million         80437 non-null  float64\n",
      " 13  total_deaths_per_million               71832 non-null  float64\n",
      " 14  new_deaths_per_million                 71990 non-null  float64\n",
      " 15  new_deaths_smoothed_per_million        80437 non-null  float64\n",
      " 16  reproduction_rate                      67668 non-null  float64\n",
      " 17  icu_patients                           8760 non-null   float64\n",
      " 18  icu_patients_per_million               8760 non-null   float64\n",
      " 19  hosp_patients                          10574 non-null  float64\n",
      " 20  hosp_patients_per_million              10574 non-null  float64\n",
      " 21  weekly_icu_admissions                  774 non-null    float64\n",
      " 22  weekly_icu_admissions_per_million      774 non-null    float64\n",
      " 23  weekly_hosp_admissions                 1273 non-null   float64\n",
      " 24  weekly_hosp_admissions_per_million     1273 non-null   float64\n",
      " 25  new_tests                              38228 non-null  float64\n",
      " 26  total_tests                            37944 non-null  float64\n",
      " 27  total_tests_per_thousand               37944 non-null  float64\n",
      " 28  new_tests_per_thousand                 38228 non-null  float64\n",
      " 29  new_tests_smoothed                     43803 non-null  float64\n",
      " 30  new_tests_smoothed_per_thousand        43803 non-null  float64\n",
      " 31  positive_rate                          42065 non-null  float64\n",
      " 32  tests_per_case                         41472 non-null  float64\n",
      " 33  tests_units                            45228 non-null  object \n",
      " 34  total_vaccinations                     8641 non-null   float64\n",
      " 35  people_vaccinated                      7932 non-null   float64\n",
      " 36  people_fully_vaccinated                5798 non-null   float64\n",
      " 37  new_vaccinations                       7318 non-null   float64\n",
      " 38  new_vaccinations_smoothed              13922 non-null  float64\n",
      " 39  total_vaccinations_per_hundred         8641 non-null   float64\n",
      " 40  people_vaccinated_per_hundred          7932 non-null   float64\n",
      " 41  people_fully_vaccinated_per_hundred    5798 non-null   float64\n",
      " 42  new_vaccinations_smoothed_per_million  13922 non-null  float64\n",
      " 43  stringency_index                       71095 non-null  float64\n",
      " 44  population                             83319 non-null  float64\n",
      " 45  population_density                     78061 non-null  float64\n",
      " 46  median_age                             75580 non-null  float64\n",
      " 47  aged_65_older                          74716 non-null  float64\n",
      " 48  aged_70_older                          75156 non-null  float64\n",
      " 49  gdp_per_capita                         75898 non-null  float64\n",
      " 50  extreme_poverty                        51698 non-null  float64\n",
      " 51  cardiovasc_death_rate                  76500 non-null  float64\n",
      " 52  diabetes_prevalence                    77600 non-null  float64\n",
      " 53  female_smokers                         59953 non-null  float64\n",
      " 54  male_smokers                           59068 non-null  float64\n",
      " 55  handwashing_facilities                 38437 non-null  float64\n",
      " 56  hospital_beds_per_thousand             69828 non-null  float64\n",
      " 57  life_expectancy                        79585 non-null  float64\n",
      " 58  human_development_index                76390 non-null  float64\n",
      "dtypes: float64(54), object(5)\n",
      "memory usage: 37.7+ MB\n"
     ]
    }
   ],
   "source": [
    "import pandas as pd\n",
    "\n",
    "data = pd.read_csv(r\"../data/owid-covid-data.csv\")\n",
    "\n",
    "# Checking table columns and data points\n",
    "data.info()"
   ]
  },
  {
   "cell_type": "markdown",
   "id": "10c1414c",
   "metadata": {},
   "source": [
    "In the above output table you can see the indices of the columns (using standard 0-indexing) as well as the human-readable\n",
    "name and information about what the data in those columns is. For example: at index 0 we find the `iso_index` this is a\n",
    "shorthand code for countries (see [here](https://www.iso.org/obp/ui/#search/code/)).\n",
    "\n",
    "We can also see that there are 83862 'non-nullable' rows for that column. This means non-empty cells in that column. Since\n",
    "dataframes can be sparsely populated, some rows can have empty column values (e.g. a row can miss the value for `new_tests`\n",
    "but still have other values).\n",
    "\n",
    "Lastly, we can see the Python data type for that column. Most will either be floating point numbers or unnamed objects -\n",
    "meaning they contain multiple values within a single data point.\n",
    "\n",
    "Note that, in this example, we're only loading in a single dataset. We provided several for you to analyse. Please check\n",
    "the `data` directory for more data files.\n",
    "\n",
    "## Fixing the date column\n",
    "We can see that `date` column is not of the `datetime` object type, a commonly used format for timestamps in Python. It\n",
    "will be useful to use this column as the x-axis for various plots and analyses, but most of those techniques assume that\n",
    "the timestamps are in the aforementioned `datetime` format.\n",
    "\n",
    "This means that if we want to use the `date` column effectively, we will have to alter the data type to `datetime`. The\n",
    "following code block will show you how to do that. It is recommended to do this for your own analysis too!"
   ]
  },
  {
   "cell_type": "code",
   "execution_count": 2,
   "id": "93fe8de6",
   "metadata": {},
   "outputs": [],
   "source": [
    "data['date'] = pd.to_datetime(data['date'], format = '%Y-%m-%d')"
   ]
  },
  {
   "cell_type": "markdown",
   "id": "1532c461",
   "metadata": {},
   "source": [
    "Your dataset is now ready for your analysis! You may want to sort your data set by date in order to more intuitively see\n",
    "changes. You can do so doing:"
   ]
  },
  {
   "cell_type": "code",
   "execution_count": 3,
   "outputs": [],
   "source": [
    "# Note: `date` is the name of the column being sorted on.\n",
    "data = data.sort_values('date', ascending=True)"
   ],
   "metadata": {
    "collapsed": false,
    "pycharm": {
     "name": "#%%\n"
    }
   }
  },
  {
   "cell_type": "markdown",
   "source": [
    "## Taking a look at the dataframe\n",
    "The next notebook will deal more with the topic of data visualisation and exploring the data set, but for now you can\n",
    "visualize (part of) your dataframe by using the following commands:"
   ],
   "metadata": {
    "collapsed": false,
    "pycharm": {
     "name": "#%% md\n"
    }
   }
  },
  {
   "cell_type": "code",
   "execution_count": 4,
   "id": "758bdb27",
   "metadata": {},
   "outputs": [
    {
     "data": {
      "text/plain": "      iso_code      continent   location       date  total_cases  new_cases  \\\n3009       ARG  South America  Argentina 2020-01-01          NaN        NaN   \n48722      MEX  North America     Mexico 2020-01-01          NaN        NaN   \n48723      MEX  North America     Mexico 2020-01-02          NaN        NaN   \n3010       ARG  South America  Argentina 2020-01-02          NaN        NaN   \n3011       ARG  South America  Argentina 2020-01-03          NaN        NaN   \n48724      MEX  North America     Mexico 2020-01-03          NaN        NaN   \n3012       ARG  South America  Argentina 2020-01-04          NaN        NaN   \n75171      THA           Asia   Thailand 2020-01-04          NaN        NaN   \n48725      MEX  North America     Mexico 2020-01-04          NaN        NaN   \n75172      THA           Asia   Thailand 2020-01-05          NaN        NaN   \n\n       new_cases_smoothed  total_deaths  new_deaths  new_deaths_smoothed  ...  \\\n3009                  NaN           NaN         NaN                  NaN  ...   \n48722                 NaN           NaN         NaN                  NaN  ...   \n48723                 NaN           NaN         NaN                  NaN  ...   \n3010                  NaN           NaN         NaN                  NaN  ...   \n3011                  NaN           NaN         NaN                  NaN  ...   \n48724                 NaN           NaN         NaN                  NaN  ...   \n3012                  NaN           NaN         NaN                  NaN  ...   \n75171                 NaN           NaN         NaN                  NaN  ...   \n48725                 NaN           NaN         NaN                  NaN  ...   \n75172                 NaN           NaN         NaN                  NaN  ...   \n\n       gdp_per_capita  extreme_poverty  cardiovasc_death_rate  \\\n3009        18933.907              0.6                191.032   \n48722       17336.469              2.5                152.783   \n48723       17336.469              2.5                152.783   \n3010        18933.907              0.6                191.032   \n3011        18933.907              0.6                191.032   \n48724       17336.469              2.5                152.783   \n3012        18933.907              0.6                191.032   \n75171       16277.671              0.1                109.861   \n48725       17336.469              2.5                152.783   \n75172       16277.671              0.1                109.861   \n\n       diabetes_prevalence  female_smokers  male_smokers  \\\n3009                  5.50            16.2          27.7   \n48722                13.06             6.9          21.4   \n48723                13.06             6.9          21.4   \n3010                  5.50            16.2          27.7   \n3011                  5.50            16.2          27.7   \n48724                13.06             6.9          21.4   \n3012                  5.50            16.2          27.7   \n75171                 7.04             1.9          38.8   \n48725                13.06             6.9          21.4   \n75172                 7.04             1.9          38.8   \n\n       handwashing_facilities  hospital_beds_per_thousand  life_expectancy  \\\n3009                      NaN                        5.00            76.67   \n48722                  87.847                        1.38            75.05   \n48723                  87.847                        1.38            75.05   \n3010                      NaN                        5.00            76.67   \n3011                      NaN                        5.00            76.67   \n48724                  87.847                        1.38            75.05   \n3012                      NaN                        5.00            76.67   \n75171                  90.670                        2.10            77.15   \n48725                  87.847                        1.38            75.05   \n75172                  90.670                        2.10            77.15   \n\n       human_development_index  \n3009                     0.845  \n48722                    0.779  \n48723                    0.779  \n3010                     0.845  \n3011                     0.845  \n48724                    0.779  \n3012                     0.845  \n75171                    0.777  \n48725                    0.779  \n75172                    0.777  \n\n[10 rows x 59 columns]",
      "text/html": "<div>\n<style scoped>\n    .dataframe tbody tr th:only-of-type {\n        vertical-align: middle;\n    }\n\n    .dataframe tbody tr th {\n        vertical-align: top;\n    }\n\n    .dataframe thead th {\n        text-align: right;\n    }\n</style>\n<table border=\"1\" class=\"dataframe\">\n  <thead>\n    <tr style=\"text-align: right;\">\n      <th></th>\n      <th>iso_code</th>\n      <th>continent</th>\n      <th>location</th>\n      <th>date</th>\n      <th>total_cases</th>\n      <th>new_cases</th>\n      <th>new_cases_smoothed</th>\n      <th>total_deaths</th>\n      <th>new_deaths</th>\n      <th>new_deaths_smoothed</th>\n      <th>...</th>\n      <th>gdp_per_capita</th>\n      <th>extreme_poverty</th>\n      <th>cardiovasc_death_rate</th>\n      <th>diabetes_prevalence</th>\n      <th>female_smokers</th>\n      <th>male_smokers</th>\n      <th>handwashing_facilities</th>\n      <th>hospital_beds_per_thousand</th>\n      <th>life_expectancy</th>\n      <th>human_development_index</th>\n    </tr>\n  </thead>\n  <tbody>\n    <tr>\n      <th>3009</th>\n      <td>ARG</td>\n      <td>South America</td>\n      <td>Argentina</td>\n      <td>2020-01-01</td>\n      <td>NaN</td>\n      <td>NaN</td>\n      <td>NaN</td>\n      <td>NaN</td>\n      <td>NaN</td>\n      <td>NaN</td>\n      <td>...</td>\n      <td>18933.907</td>\n      <td>0.6</td>\n      <td>191.032</td>\n      <td>5.50</td>\n      <td>16.2</td>\n      <td>27.7</td>\n      <td>NaN</td>\n      <td>5.00</td>\n      <td>76.67</td>\n      <td>0.845</td>\n    </tr>\n    <tr>\n      <th>48722</th>\n      <td>MEX</td>\n      <td>North America</td>\n      <td>Mexico</td>\n      <td>2020-01-01</td>\n      <td>NaN</td>\n      <td>NaN</td>\n      <td>NaN</td>\n      <td>NaN</td>\n      <td>NaN</td>\n      <td>NaN</td>\n      <td>...</td>\n      <td>17336.469</td>\n      <td>2.5</td>\n      <td>152.783</td>\n      <td>13.06</td>\n      <td>6.9</td>\n      <td>21.4</td>\n      <td>87.847</td>\n      <td>1.38</td>\n      <td>75.05</td>\n      <td>0.779</td>\n    </tr>\n    <tr>\n      <th>48723</th>\n      <td>MEX</td>\n      <td>North America</td>\n      <td>Mexico</td>\n      <td>2020-01-02</td>\n      <td>NaN</td>\n      <td>NaN</td>\n      <td>NaN</td>\n      <td>NaN</td>\n      <td>NaN</td>\n      <td>NaN</td>\n      <td>...</td>\n      <td>17336.469</td>\n      <td>2.5</td>\n      <td>152.783</td>\n      <td>13.06</td>\n      <td>6.9</td>\n      <td>21.4</td>\n      <td>87.847</td>\n      <td>1.38</td>\n      <td>75.05</td>\n      <td>0.779</td>\n    </tr>\n    <tr>\n      <th>3010</th>\n      <td>ARG</td>\n      <td>South America</td>\n      <td>Argentina</td>\n      <td>2020-01-02</td>\n      <td>NaN</td>\n      <td>NaN</td>\n      <td>NaN</td>\n      <td>NaN</td>\n      <td>NaN</td>\n      <td>NaN</td>\n      <td>...</td>\n      <td>18933.907</td>\n      <td>0.6</td>\n      <td>191.032</td>\n      <td>5.50</td>\n      <td>16.2</td>\n      <td>27.7</td>\n      <td>NaN</td>\n      <td>5.00</td>\n      <td>76.67</td>\n      <td>0.845</td>\n    </tr>\n    <tr>\n      <th>3011</th>\n      <td>ARG</td>\n      <td>South America</td>\n      <td>Argentina</td>\n      <td>2020-01-03</td>\n      <td>NaN</td>\n      <td>NaN</td>\n      <td>NaN</td>\n      <td>NaN</td>\n      <td>NaN</td>\n      <td>NaN</td>\n      <td>...</td>\n      <td>18933.907</td>\n      <td>0.6</td>\n      <td>191.032</td>\n      <td>5.50</td>\n      <td>16.2</td>\n      <td>27.7</td>\n      <td>NaN</td>\n      <td>5.00</td>\n      <td>76.67</td>\n      <td>0.845</td>\n    </tr>\n    <tr>\n      <th>48724</th>\n      <td>MEX</td>\n      <td>North America</td>\n      <td>Mexico</td>\n      <td>2020-01-03</td>\n      <td>NaN</td>\n      <td>NaN</td>\n      <td>NaN</td>\n      <td>NaN</td>\n      <td>NaN</td>\n      <td>NaN</td>\n      <td>...</td>\n      <td>17336.469</td>\n      <td>2.5</td>\n      <td>152.783</td>\n      <td>13.06</td>\n      <td>6.9</td>\n      <td>21.4</td>\n      <td>87.847</td>\n      <td>1.38</td>\n      <td>75.05</td>\n      <td>0.779</td>\n    </tr>\n    <tr>\n      <th>3012</th>\n      <td>ARG</td>\n      <td>South America</td>\n      <td>Argentina</td>\n      <td>2020-01-04</td>\n      <td>NaN</td>\n      <td>NaN</td>\n      <td>NaN</td>\n      <td>NaN</td>\n      <td>NaN</td>\n      <td>NaN</td>\n      <td>...</td>\n      <td>18933.907</td>\n      <td>0.6</td>\n      <td>191.032</td>\n      <td>5.50</td>\n      <td>16.2</td>\n      <td>27.7</td>\n      <td>NaN</td>\n      <td>5.00</td>\n      <td>76.67</td>\n      <td>0.845</td>\n    </tr>\n    <tr>\n      <th>75171</th>\n      <td>THA</td>\n      <td>Asia</td>\n      <td>Thailand</td>\n      <td>2020-01-04</td>\n      <td>NaN</td>\n      <td>NaN</td>\n      <td>NaN</td>\n      <td>NaN</td>\n      <td>NaN</td>\n      <td>NaN</td>\n      <td>...</td>\n      <td>16277.671</td>\n      <td>0.1</td>\n      <td>109.861</td>\n      <td>7.04</td>\n      <td>1.9</td>\n      <td>38.8</td>\n      <td>90.670</td>\n      <td>2.10</td>\n      <td>77.15</td>\n      <td>0.777</td>\n    </tr>\n    <tr>\n      <th>48725</th>\n      <td>MEX</td>\n      <td>North America</td>\n      <td>Mexico</td>\n      <td>2020-01-04</td>\n      <td>NaN</td>\n      <td>NaN</td>\n      <td>NaN</td>\n      <td>NaN</td>\n      <td>NaN</td>\n      <td>NaN</td>\n      <td>...</td>\n      <td>17336.469</td>\n      <td>2.5</td>\n      <td>152.783</td>\n      <td>13.06</td>\n      <td>6.9</td>\n      <td>21.4</td>\n      <td>87.847</td>\n      <td>1.38</td>\n      <td>75.05</td>\n      <td>0.779</td>\n    </tr>\n    <tr>\n      <th>75172</th>\n      <td>THA</td>\n      <td>Asia</td>\n      <td>Thailand</td>\n      <td>2020-01-05</td>\n      <td>NaN</td>\n      <td>NaN</td>\n      <td>NaN</td>\n      <td>NaN</td>\n      <td>NaN</td>\n      <td>NaN</td>\n      <td>...</td>\n      <td>16277.671</td>\n      <td>0.1</td>\n      <td>109.861</td>\n      <td>7.04</td>\n      <td>1.9</td>\n      <td>38.8</td>\n      <td>90.670</td>\n      <td>2.10</td>\n      <td>77.15</td>\n      <td>0.777</td>\n    </tr>\n  </tbody>\n</table>\n<p>10 rows × 59 columns</p>\n</div>"
     },
     "execution_count": 4,
     "metadata": {},
     "output_type": "execute_result"
    }
   ],
   "source": [
    "# Show first N (e.g. 10) rows of the dataframe\n",
    "data.head(10)"
   ]
  },
  {
   "cell_type": "code",
   "execution_count": 5,
   "id": "916735dd",
   "metadata": {},
   "outputs": [
    {
     "data": {
      "text/plain": "       iso_code      continent  location       date  total_cases  new_cases  \\\n46479       MYS           Asia  Malaysia 2021-04-24     390252.0     2717.0   \n41871       LAO           Asia      Laos 2021-04-24        247.0       88.0   \n59539       PRY  South America  Paraguay 2021-04-24     265296.0     2162.0   \n3935        ABW  North America     Aruba 2021-04-24          NaN        NaN   \n57045  OWID_OCE            NaN   Oceania 2021-04-24      42985.0      276.0   \n75170       TZA         Africa  Tanzania 2021-04-24        509.0        0.0   \n28257       GAB         Africa     Gabon 2021-04-24      22433.0        0.0   \n80366       URY  South America   Uruguay 2021-04-24     182326.0     2789.0   \n21298       DJI         Africa  Djibouti 2021-04-24      10746.0        8.0   \n83861       ZWE         Africa  Zimbabwe 2021-04-24      38064.0       19.0   \n\n       new_cases_smoothed  total_deaths  new_deaths  new_deaths_smoothed  ...  \\\n46479            2484.714        1426.0        11.0                8.000  ...   \n41871              27.000           NaN         NaN                0.000  ...   \n59539            2418.857        5802.0        87.0               78.714  ...   \n3935                  NaN           NaN         NaN                  NaN  ...   \n57045             203.571        1041.0         3.0                3.000  ...   \n75170               0.000          21.0         0.0                0.000  ...   \n28257              82.143         138.0         0.0                0.714  ...   \n80366            2846.571        2283.0        56.0               62.143  ...   \n21298              47.714         132.0         0.0                2.571  ...   \n83861              52.143        1556.0         0.0                0.571  ...   \n\n       gdp_per_capita  extreme_poverty  cardiovasc_death_rate  \\\n46479       26808.164              0.1                260.942   \n41871        6397.360             22.7                368.111   \n59539        8827.010              1.7                199.128   \n3935        35973.781              NaN                    NaN   \n57045             NaN              NaN                    NaN   \n75170        2683.304             49.1                217.288   \n28257       16562.413              3.4                259.967   \n80366       20551.409              0.1                160.708   \n21298        2705.406             22.5                258.037   \n83861        1899.775             21.4                307.846   \n\n       diabetes_prevalence  female_smokers  male_smokers  \\\n46479                16.74             1.0          42.4   \n41871                 4.00             7.3          51.2   \n59539                 8.27             5.0          21.6   \n3935                 11.62             NaN           NaN   \n57045                  NaN             NaN           NaN   \n75170                 5.75             3.3          26.7   \n28257                 7.20             NaN           NaN   \n80366                 6.93            14.0          19.9   \n21298                 6.05             1.7          24.5   \n83861                 1.82             1.6          30.7   \n\n       handwashing_facilities  hospital_beds_per_thousand  life_expectancy  \\\n46479                     NaN                         1.9            76.16   \n41871                  49.839                         1.5            67.92   \n59539                  79.602                         1.3            74.25   \n3935                      NaN                         NaN            76.29   \n57045                     NaN                         NaN              NaN   \n75170                  47.953                         0.7            65.46   \n28257                     NaN                         6.3            66.47   \n80366                     NaN                         2.8            77.91   \n21298                     NaN                         1.4            67.11   \n83861                  36.791                         1.7            61.49   \n\n       human_development_index  \n46479                    0.810  \n41871                    0.613  \n59539                    0.728  \n3935                       NaN  \n57045                      NaN  \n75170                    0.529  \n28257                    0.703  \n80366                    0.817  \n21298                    0.524  \n83861                    0.571  \n\n[10 rows x 59 columns]",
      "text/html": "<div>\n<style scoped>\n    .dataframe tbody tr th:only-of-type {\n        vertical-align: middle;\n    }\n\n    .dataframe tbody tr th {\n        vertical-align: top;\n    }\n\n    .dataframe thead th {\n        text-align: right;\n    }\n</style>\n<table border=\"1\" class=\"dataframe\">\n  <thead>\n    <tr style=\"text-align: right;\">\n      <th></th>\n      <th>iso_code</th>\n      <th>continent</th>\n      <th>location</th>\n      <th>date</th>\n      <th>total_cases</th>\n      <th>new_cases</th>\n      <th>new_cases_smoothed</th>\n      <th>total_deaths</th>\n      <th>new_deaths</th>\n      <th>new_deaths_smoothed</th>\n      <th>...</th>\n      <th>gdp_per_capita</th>\n      <th>extreme_poverty</th>\n      <th>cardiovasc_death_rate</th>\n      <th>diabetes_prevalence</th>\n      <th>female_smokers</th>\n      <th>male_smokers</th>\n      <th>handwashing_facilities</th>\n      <th>hospital_beds_per_thousand</th>\n      <th>life_expectancy</th>\n      <th>human_development_index</th>\n    </tr>\n  </thead>\n  <tbody>\n    <tr>\n      <th>46479</th>\n      <td>MYS</td>\n      <td>Asia</td>\n      <td>Malaysia</td>\n      <td>2021-04-24</td>\n      <td>390252.0</td>\n      <td>2717.0</td>\n      <td>2484.714</td>\n      <td>1426.0</td>\n      <td>11.0</td>\n      <td>8.000</td>\n      <td>...</td>\n      <td>26808.164</td>\n      <td>0.1</td>\n      <td>260.942</td>\n      <td>16.74</td>\n      <td>1.0</td>\n      <td>42.4</td>\n      <td>NaN</td>\n      <td>1.9</td>\n      <td>76.16</td>\n      <td>0.810</td>\n    </tr>\n    <tr>\n      <th>41871</th>\n      <td>LAO</td>\n      <td>Asia</td>\n      <td>Laos</td>\n      <td>2021-04-24</td>\n      <td>247.0</td>\n      <td>88.0</td>\n      <td>27.000</td>\n      <td>NaN</td>\n      <td>NaN</td>\n      <td>0.000</td>\n      <td>...</td>\n      <td>6397.360</td>\n      <td>22.7</td>\n      <td>368.111</td>\n      <td>4.00</td>\n      <td>7.3</td>\n      <td>51.2</td>\n      <td>49.839</td>\n      <td>1.5</td>\n      <td>67.92</td>\n      <td>0.613</td>\n    </tr>\n    <tr>\n      <th>59539</th>\n      <td>PRY</td>\n      <td>South America</td>\n      <td>Paraguay</td>\n      <td>2021-04-24</td>\n      <td>265296.0</td>\n      <td>2162.0</td>\n      <td>2418.857</td>\n      <td>5802.0</td>\n      <td>87.0</td>\n      <td>78.714</td>\n      <td>...</td>\n      <td>8827.010</td>\n      <td>1.7</td>\n      <td>199.128</td>\n      <td>8.27</td>\n      <td>5.0</td>\n      <td>21.6</td>\n      <td>79.602</td>\n      <td>1.3</td>\n      <td>74.25</td>\n      <td>0.728</td>\n    </tr>\n    <tr>\n      <th>3935</th>\n      <td>ABW</td>\n      <td>North America</td>\n      <td>Aruba</td>\n      <td>2021-04-24</td>\n      <td>NaN</td>\n      <td>NaN</td>\n      <td>NaN</td>\n      <td>NaN</td>\n      <td>NaN</td>\n      <td>NaN</td>\n      <td>...</td>\n      <td>35973.781</td>\n      <td>NaN</td>\n      <td>NaN</td>\n      <td>11.62</td>\n      <td>NaN</td>\n      <td>NaN</td>\n      <td>NaN</td>\n      <td>NaN</td>\n      <td>76.29</td>\n      <td>NaN</td>\n    </tr>\n    <tr>\n      <th>57045</th>\n      <td>OWID_OCE</td>\n      <td>NaN</td>\n      <td>Oceania</td>\n      <td>2021-04-24</td>\n      <td>42985.0</td>\n      <td>276.0</td>\n      <td>203.571</td>\n      <td>1041.0</td>\n      <td>3.0</td>\n      <td>3.000</td>\n      <td>...</td>\n      <td>NaN</td>\n      <td>NaN</td>\n      <td>NaN</td>\n      <td>NaN</td>\n      <td>NaN</td>\n      <td>NaN</td>\n      <td>NaN</td>\n      <td>NaN</td>\n      <td>NaN</td>\n      <td>NaN</td>\n    </tr>\n    <tr>\n      <th>75170</th>\n      <td>TZA</td>\n      <td>Africa</td>\n      <td>Tanzania</td>\n      <td>2021-04-24</td>\n      <td>509.0</td>\n      <td>0.0</td>\n      <td>0.000</td>\n      <td>21.0</td>\n      <td>0.0</td>\n      <td>0.000</td>\n      <td>...</td>\n      <td>2683.304</td>\n      <td>49.1</td>\n      <td>217.288</td>\n      <td>5.75</td>\n      <td>3.3</td>\n      <td>26.7</td>\n      <td>47.953</td>\n      <td>0.7</td>\n      <td>65.46</td>\n      <td>0.529</td>\n    </tr>\n    <tr>\n      <th>28257</th>\n      <td>GAB</td>\n      <td>Africa</td>\n      <td>Gabon</td>\n      <td>2021-04-24</td>\n      <td>22433.0</td>\n      <td>0.0</td>\n      <td>82.143</td>\n      <td>138.0</td>\n      <td>0.0</td>\n      <td>0.714</td>\n      <td>...</td>\n      <td>16562.413</td>\n      <td>3.4</td>\n      <td>259.967</td>\n      <td>7.20</td>\n      <td>NaN</td>\n      <td>NaN</td>\n      <td>NaN</td>\n      <td>6.3</td>\n      <td>66.47</td>\n      <td>0.703</td>\n    </tr>\n    <tr>\n      <th>80366</th>\n      <td>URY</td>\n      <td>South America</td>\n      <td>Uruguay</td>\n      <td>2021-04-24</td>\n      <td>182326.0</td>\n      <td>2789.0</td>\n      <td>2846.571</td>\n      <td>2283.0</td>\n      <td>56.0</td>\n      <td>62.143</td>\n      <td>...</td>\n      <td>20551.409</td>\n      <td>0.1</td>\n      <td>160.708</td>\n      <td>6.93</td>\n      <td>14.0</td>\n      <td>19.9</td>\n      <td>NaN</td>\n      <td>2.8</td>\n      <td>77.91</td>\n      <td>0.817</td>\n    </tr>\n    <tr>\n      <th>21298</th>\n      <td>DJI</td>\n      <td>Africa</td>\n      <td>Djibouti</td>\n      <td>2021-04-24</td>\n      <td>10746.0</td>\n      <td>8.0</td>\n      <td>47.714</td>\n      <td>132.0</td>\n      <td>0.0</td>\n      <td>2.571</td>\n      <td>...</td>\n      <td>2705.406</td>\n      <td>22.5</td>\n      <td>258.037</td>\n      <td>6.05</td>\n      <td>1.7</td>\n      <td>24.5</td>\n      <td>NaN</td>\n      <td>1.4</td>\n      <td>67.11</td>\n      <td>0.524</td>\n    </tr>\n    <tr>\n      <th>83861</th>\n      <td>ZWE</td>\n      <td>Africa</td>\n      <td>Zimbabwe</td>\n      <td>2021-04-24</td>\n      <td>38064.0</td>\n      <td>19.0</td>\n      <td>52.143</td>\n      <td>1556.0</td>\n      <td>0.0</td>\n      <td>0.571</td>\n      <td>...</td>\n      <td>1899.775</td>\n      <td>21.4</td>\n      <td>307.846</td>\n      <td>1.82</td>\n      <td>1.6</td>\n      <td>30.7</td>\n      <td>36.791</td>\n      <td>1.7</td>\n      <td>61.49</td>\n      <td>0.571</td>\n    </tr>\n  </tbody>\n</table>\n<p>10 rows × 59 columns</p>\n</div>"
     },
     "execution_count": 5,
     "metadata": {},
     "output_type": "execute_result"
    }
   ],
   "source": [
    "# Tail will show the last N results of the dataframe.\n",
    "data.tail(10)"
   ]
  },
  {
   "cell_type": "code",
   "execution_count": 6,
   "outputs": [
    {
     "data": {
      "text/plain": "      iso_code      continent   location       date  total_cases  new_cases  \\\n48734      MEX  North America     Mexico 2020-01-13          NaN        NaN   \n59547      PER  South America       Peru 2020-01-13          NaN        NaN   \n75180      THA           Asia   Thailand 2020-01-13          NaN        NaN   \n3021       ARG  South America  Argentina 2020-01-13          NaN        NaN   \n59548      PER  South America       Peru 2020-01-14          NaN        NaN   \n\n       new_cases_smoothed  total_deaths  new_deaths  new_deaths_smoothed  ...  \\\n48734                 NaN           NaN         NaN                  NaN  ...   \n59547                 NaN           NaN         NaN                  NaN  ...   \n75180                 NaN           NaN         NaN                  NaN  ...   \n3021                  NaN           NaN         NaN                  NaN  ...   \n59548                 NaN           NaN         NaN                  NaN  ...   \n\n       gdp_per_capita  extreme_poverty  cardiovasc_death_rate  \\\n48734       17336.469              2.5                152.783   \n59547       12236.706              3.5                 85.755   \n75180       16277.671              0.1                109.861   \n3021        18933.907              0.6                191.032   \n59548       12236.706              3.5                 85.755   \n\n       diabetes_prevalence  female_smokers  male_smokers  \\\n48734                13.06             6.9          21.4   \n59547                 5.95             4.8           NaN   \n75180                 7.04             1.9          38.8   \n3021                  5.50            16.2          27.7   \n59548                 5.95             4.8           NaN   \n\n       handwashing_facilities  hospital_beds_per_thousand  life_expectancy  \\\n48734                  87.847                        1.38            75.05   \n59547                     NaN                        1.60            76.74   \n75180                  90.670                        2.10            77.15   \n3021                      NaN                        5.00            76.67   \n59548                     NaN                        1.60            76.74   \n\n       human_development_index  \n48734                    0.779  \n59547                    0.777  \n75180                    0.777  \n3021                     0.845  \n59548                    0.777  \n\n[5 rows x 59 columns]",
      "text/html": "<div>\n<style scoped>\n    .dataframe tbody tr th:only-of-type {\n        vertical-align: middle;\n    }\n\n    .dataframe tbody tr th {\n        vertical-align: top;\n    }\n\n    .dataframe thead th {\n        text-align: right;\n    }\n</style>\n<table border=\"1\" class=\"dataframe\">\n  <thead>\n    <tr style=\"text-align: right;\">\n      <th></th>\n      <th>iso_code</th>\n      <th>continent</th>\n      <th>location</th>\n      <th>date</th>\n      <th>total_cases</th>\n      <th>new_cases</th>\n      <th>new_cases_smoothed</th>\n      <th>total_deaths</th>\n      <th>new_deaths</th>\n      <th>new_deaths_smoothed</th>\n      <th>...</th>\n      <th>gdp_per_capita</th>\n      <th>extreme_poverty</th>\n      <th>cardiovasc_death_rate</th>\n      <th>diabetes_prevalence</th>\n      <th>female_smokers</th>\n      <th>male_smokers</th>\n      <th>handwashing_facilities</th>\n      <th>hospital_beds_per_thousand</th>\n      <th>life_expectancy</th>\n      <th>human_development_index</th>\n    </tr>\n  </thead>\n  <tbody>\n    <tr>\n      <th>48734</th>\n      <td>MEX</td>\n      <td>North America</td>\n      <td>Mexico</td>\n      <td>2020-01-13</td>\n      <td>NaN</td>\n      <td>NaN</td>\n      <td>NaN</td>\n      <td>NaN</td>\n      <td>NaN</td>\n      <td>NaN</td>\n      <td>...</td>\n      <td>17336.469</td>\n      <td>2.5</td>\n      <td>152.783</td>\n      <td>13.06</td>\n      <td>6.9</td>\n      <td>21.4</td>\n      <td>87.847</td>\n      <td>1.38</td>\n      <td>75.05</td>\n      <td>0.779</td>\n    </tr>\n    <tr>\n      <th>59547</th>\n      <td>PER</td>\n      <td>South America</td>\n      <td>Peru</td>\n      <td>2020-01-13</td>\n      <td>NaN</td>\n      <td>NaN</td>\n      <td>NaN</td>\n      <td>NaN</td>\n      <td>NaN</td>\n      <td>NaN</td>\n      <td>...</td>\n      <td>12236.706</td>\n      <td>3.5</td>\n      <td>85.755</td>\n      <td>5.95</td>\n      <td>4.8</td>\n      <td>NaN</td>\n      <td>NaN</td>\n      <td>1.60</td>\n      <td>76.74</td>\n      <td>0.777</td>\n    </tr>\n    <tr>\n      <th>75180</th>\n      <td>THA</td>\n      <td>Asia</td>\n      <td>Thailand</td>\n      <td>2020-01-13</td>\n      <td>NaN</td>\n      <td>NaN</td>\n      <td>NaN</td>\n      <td>NaN</td>\n      <td>NaN</td>\n      <td>NaN</td>\n      <td>...</td>\n      <td>16277.671</td>\n      <td>0.1</td>\n      <td>109.861</td>\n      <td>7.04</td>\n      <td>1.9</td>\n      <td>38.8</td>\n      <td>90.670</td>\n      <td>2.10</td>\n      <td>77.15</td>\n      <td>0.777</td>\n    </tr>\n    <tr>\n      <th>3021</th>\n      <td>ARG</td>\n      <td>South America</td>\n      <td>Argentina</td>\n      <td>2020-01-13</td>\n      <td>NaN</td>\n      <td>NaN</td>\n      <td>NaN</td>\n      <td>NaN</td>\n      <td>NaN</td>\n      <td>NaN</td>\n      <td>...</td>\n      <td>18933.907</td>\n      <td>0.6</td>\n      <td>191.032</td>\n      <td>5.50</td>\n      <td>16.2</td>\n      <td>27.7</td>\n      <td>NaN</td>\n      <td>5.00</td>\n      <td>76.67</td>\n      <td>0.845</td>\n    </tr>\n    <tr>\n      <th>59548</th>\n      <td>PER</td>\n      <td>South America</td>\n      <td>Peru</td>\n      <td>2020-01-14</td>\n      <td>NaN</td>\n      <td>NaN</td>\n      <td>NaN</td>\n      <td>NaN</td>\n      <td>NaN</td>\n      <td>NaN</td>\n      <td>...</td>\n      <td>12236.706</td>\n      <td>3.5</td>\n      <td>85.755</td>\n      <td>5.95</td>\n      <td>4.8</td>\n      <td>NaN</td>\n      <td>NaN</td>\n      <td>1.60</td>\n      <td>76.74</td>\n      <td>0.777</td>\n    </tr>\n  </tbody>\n</table>\n<p>5 rows × 59 columns</p>\n</div>"
     },
     "execution_count": 6,
     "metadata": {},
     "output_type": "execute_result"
    }
   ],
   "source": [
    "# Array slicing also works - this shows rows 40 up to (not including) 45.\n",
    "data[40:45]\n",
    "\n"
   ],
   "metadata": {
    "collapsed": false,
    "pycharm": {
     "name": "#%%\n"
    }
   }
  }
 ],
 "metadata": {
  "kernelspec": {
   "name": "python3",
   "language": "python",
   "display_name": "Python 3"
  },
  "language_info": {
   "codemirror_mode": {
    "name": "ipython",
    "version": 3
   },
   "file_extension": ".py",
   "mimetype": "text/x-python",
   "name": "python",
   "nbconvert_exporter": "python",
   "pygments_lexer": "ipython3",
   "version": "3.7.10"
  }
 },
 "nbformat": 4,
 "nbformat_minor": 5
}
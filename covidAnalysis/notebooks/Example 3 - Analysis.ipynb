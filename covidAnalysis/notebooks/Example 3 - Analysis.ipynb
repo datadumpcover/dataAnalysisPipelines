{
 "cells": [
  {
   "cell_type": "markdown",
   "metadata": {},
   "source": [
    "# Checking Correlation between Variables and Testing Theories\n",
    "\n",
    "After EDA (see the second example notebook) you can start testing theories by performing statistical analyses and other\n",
    "techniques, creating models of the data that could give insight into the data or be used for prediction of future events."
   ]
  },
  {
   "cell_type": "markdown",
   "metadata": {},
   "source": [
    "## Contingency Tables\n",
    "\n",
    "Estimating correlation between total number of deaths and being a smoker (both female and male smokers), using a\n",
    "[contingency table](https://en.wikipedia.org/wiki/Contingency_table).\n",
    "\n",
    "Note, the exact same analysis could be done for other variables, for example: `cardiovasc_death_rate` and\n",
    "`diabetes_prevalence`."
   ]
  },
  {
   "cell_type": "code",
   "execution_count": 44,
   "metadata": {},
   "outputs": [
    {
     "data": {
      "text/plain": "             total_deaths  n_smokers\n  country                           \n0 Albania          2372.0       58.3\n1 Algeria          3198.0       31.1\n2 Andorra           124.0       66.8\n3 Argentina       61474.0       43.9\n4 Armenia          4001.0       53.6",
      "text/html": "<div>\n<style scoped>\n    .dataframe tbody tr th:only-of-type {\n        vertical-align: middle;\n    }\n\n    .dataframe tbody tr th {\n        vertical-align: top;\n    }\n\n    .dataframe thead th {\n        text-align: right;\n    }\n</style>\n<table border=\"1\" class=\"dataframe\">\n  <thead>\n    <tr style=\"text-align: right;\">\n      <th></th>\n      <th></th>\n      <th>total_deaths</th>\n      <th>n_smokers</th>\n    </tr>\n    <tr>\n      <th></th>\n      <th>country</th>\n      <th></th>\n      <th></th>\n    </tr>\n  </thead>\n  <tbody>\n    <tr>\n      <th>0</th>\n      <th>Albania</th>\n      <td>2372.0</td>\n      <td>58.3</td>\n    </tr>\n    <tr>\n      <th>1</th>\n      <th>Algeria</th>\n      <td>3198.0</td>\n      <td>31.1</td>\n    </tr>\n    <tr>\n      <th>2</th>\n      <th>Andorra</th>\n      <td>124.0</td>\n      <td>66.8</td>\n    </tr>\n    <tr>\n      <th>3</th>\n      <th>Argentina</th>\n      <td>61474.0</td>\n      <td>43.9</td>\n    </tr>\n    <tr>\n      <th>4</th>\n      <th>Armenia</th>\n      <td>4001.0</td>\n      <td>53.6</td>\n    </tr>\n  </tbody>\n</table>\n</div>"
     },
     "execution_count": 44,
     "metadata": {},
     "output_type": "execute_result"
    }
   ],
   "source": [
    "import pandas as pd\n",
    "from IPython.display import display\n",
    "\n",
    "pd.set_option('display.max_columns', None)\n",
    "\n",
    "df_indexed = pd.read_csv(r\"../data/owid-covid-data.csv\", index_col='continent')\n",
    "\n",
    "# Select latest available data\n",
    "df_indexed = df_indexed.loc[df_indexed['date'] == '2021-04-24']\n",
    "\n",
    "countries = df_indexed['location']\n",
    "total_deaths = df_indexed['total_deaths']\n",
    "\n",
    "n_smokers = df_indexed['female_smokers'] + df_indexed['male_smokers']\n",
    "\n",
    "df_bis_smoking = pd.DataFrame({'country':countries,\n",
    "                       'total_deaths': total_deaths,\n",
    "                       'n_smokers': n_smokers}).dropna()\n",
    "\n",
    "df_bis_smoking = df_bis_smoking.reset_index(drop=True)\n",
    "\n",
    "df_bis_smoking.set_index([\"country\"], inplace = True,\n",
    "                    append = True, drop = True)\n",
    "\n",
    "df_bis_smoking.head()"
   ]
  },
  {
   "cell_type": "markdown",
   "metadata": {},
   "source": [
    "## Pearson's Correlation Coefficient"
   ]
  },
  {
   "cell_type": "code",
   "execution_count": 45,
   "metadata": {},
   "outputs": [
    {
     "data": {
      "text/plain": "              total_deaths  n_smokers\ntotal_deaths      1.000000  -0.005351\nn_smokers        -0.005351   1.000000",
      "text/html": "<div>\n<style scoped>\n    .dataframe tbody tr th:only-of-type {\n        vertical-align: middle;\n    }\n\n    .dataframe tbody tr th {\n        vertical-align: top;\n    }\n\n    .dataframe thead th {\n        text-align: right;\n    }\n</style>\n<table border=\"1\" class=\"dataframe\">\n  <thead>\n    <tr style=\"text-align: right;\">\n      <th></th>\n      <th>total_deaths</th>\n      <th>n_smokers</th>\n    </tr>\n  </thead>\n  <tbody>\n    <tr>\n      <th>total_deaths</th>\n      <td>1.000000</td>\n      <td>-0.005351</td>\n    </tr>\n    <tr>\n      <th>n_smokers</th>\n      <td>-0.005351</td>\n      <td>1.000000</td>\n    </tr>\n  </tbody>\n</table>\n</div>"
     },
     "execution_count": 45,
     "metadata": {},
     "output_type": "execute_result"
    }
   ],
   "source": [
    "# Measures linear correlation between two sets of data - the closest to 1 the higher the correlation.\n",
    "df_bis_smoking.corr()"
   ]
  },
  {
   "cell_type": "markdown",
   "metadata": {},
   "source": [
    "This is a very low negative correlation between smoking and death from Covid-19. However, this alone does not mean that\n",
    "this effect also holds up to scientific scrutiny.\n",
    "\n",
    "For more info, see [this](https://en.wikipedia.org/wiki/Pearson_correlation_coefficient) link."
   ]
  },
  {
   "cell_type": "markdown",
   "metadata": {},
   "source": [
    "## Chi-Squared Test\n",
    "In order to determine if there is a statistically significant correlation between smoking and death rates we need to\n",
    "employ a statistical test. We choose to use the [Chi-Squared Test](https://en.wikipedia.org/wiki/Chi-squared_test)."
   ]
  },
  {
   "cell_type": "code",
   "execution_count": 46,
   "metadata": {},
   "outputs": [
    {
     "data": {
      "text/plain": "(15.885715775900074,\n 6.728463101347897e-05,\n 1,\n array([[35.75539568, 34.24460432],\n        [35.24460432, 33.75539568]]))"
     },
     "execution_count": 46,
     "metadata": {},
     "output_type": "execute_result"
    }
   ],
   "source": [
    "import scipy.stats as st\n",
    "\n",
    "df_bis_smoking['total_deaths_binarized'] = (df_bis_smoking['total_deaths'] > df_bis_smoking['total_deaths'].median())\n",
    "df_bis_smoking['n_smokers_binarized'] = (df_bis_smoking['n_smokers'] > df_bis_smoking['n_smokers'].median())\n",
    "\n",
    "pd.crosstab(df_bis_smoking['total_deaths_binarized'], df_bis_smoking['n_smokers_binarized'])\n",
    "\n",
    "this = pd.crosstab(df_bis_smoking['total_deaths_binarized'], df_bis_smoking['n_smokers_binarized'])\n",
    "st.chi2_contingency(this)"
   ]
  },
  {
   "cell_type": "markdown",
   "metadata": {},
   "source": [
    "The second value of the Chi-squared test is the p-value which indicates the likelihood of the null-hypothesis (in this\n",
    "case, that smoking is not correlated with the number of deaths). Since it is much lower than 0.05 we can reject the null -\n",
    "there is therefore no proof according to the chi-squared test that there is NO correlation between the proportion of deaths and smoking, or rather, the data might show this correlation.\n"
   ]
  },
  {
   "cell_type": "markdown",
   "metadata": {},
   "source": [
    "# Multivariate Linear Regression\n",
    "Modelling the relationship between a dependent variable and one or more independent variables can be done via a [linear\n",
    "regression](https://en.wikipedia.org/wiki/Linear_regression)."
   ]
  },
  {
   "cell_type": "code",
   "execution_count": 47,
   "metadata": {},
   "outputs": [
    {
     "data": {
      "text/plain": "             total_deaths  diabetes_prevalence  cvd_rate  n_smokers\n  country                                                          \n0 Albania          2372.0                10.08   304.195       58.3\n1 Algeria          3198.0                 6.73   278.364       31.1\n2 Andorra           124.0                 7.97   109.135       66.8\n3 Argentina       61474.0                 5.50   191.032       43.9\n4 Armenia          4001.0                 7.11   341.010       53.6",
      "text/html": "<div>\n<style scoped>\n    .dataframe tbody tr th:only-of-type {\n        vertical-align: middle;\n    }\n\n    .dataframe tbody tr th {\n        vertical-align: top;\n    }\n\n    .dataframe thead th {\n        text-align: right;\n    }\n</style>\n<table border=\"1\" class=\"dataframe\">\n  <thead>\n    <tr style=\"text-align: right;\">\n      <th></th>\n      <th></th>\n      <th>total_deaths</th>\n      <th>diabetes_prevalence</th>\n      <th>cvd_rate</th>\n      <th>n_smokers</th>\n    </tr>\n    <tr>\n      <th></th>\n      <th>country</th>\n      <th></th>\n      <th></th>\n      <th></th>\n      <th></th>\n    </tr>\n  </thead>\n  <tbody>\n    <tr>\n      <th>0</th>\n      <th>Albania</th>\n      <td>2372.0</td>\n      <td>10.08</td>\n      <td>304.195</td>\n      <td>58.3</td>\n    </tr>\n    <tr>\n      <th>1</th>\n      <th>Algeria</th>\n      <td>3198.0</td>\n      <td>6.73</td>\n      <td>278.364</td>\n      <td>31.1</td>\n    </tr>\n    <tr>\n      <th>2</th>\n      <th>Andorra</th>\n      <td>124.0</td>\n      <td>7.97</td>\n      <td>109.135</td>\n      <td>66.8</td>\n    </tr>\n    <tr>\n      <th>3</th>\n      <th>Argentina</th>\n      <td>61474.0</td>\n      <td>5.50</td>\n      <td>191.032</td>\n      <td>43.9</td>\n    </tr>\n    <tr>\n      <th>4</th>\n      <th>Armenia</th>\n      <td>4001.0</td>\n      <td>7.11</td>\n      <td>341.010</td>\n      <td>53.6</td>\n    </tr>\n  </tbody>\n</table>\n</div>"
     },
     "metadata": {},
     "output_type": "display_data"
    }
   ],
   "source": [
    "countries = df_indexed['location']\n",
    "total_deaths = df_indexed['total_deaths']\n",
    "diabetes = df_indexed['diabetes_prevalence']\n",
    "cvd_rate = df_indexed['cardiovasc_death_rate']\n",
    "n_smokers = df_indexed['female_smokers'] + df_indexed['male_smokers']\n",
    "\n",
    "df_bis = pd.DataFrame({'country':countries,\n",
    "                       'total_deaths': total_deaths,\n",
    "                       'diabetes_prevalence': diabetes,\n",
    "                       'cvd_rate': cvd_rate,\n",
    "                       'n_smokers': n_smokers}).dropna()\n",
    "\n",
    "df_bis = df_bis.reset_index(drop=True)\n",
    "\n",
    "df_bis.set_index([\"country\"], inplace = True,\n",
    "                    append = True, drop = True)\n",
    "\n",
    "display(df_bis.head())"
   ]
  },
  {
   "cell_type": "code",
   "execution_count": 48,
   "metadata": {},
   "outputs": [
    {
     "data": {
      "text/plain": "       total_deaths  diabetes_prevalence    cvd_rate   n_smokers\ncount  1.390000e+02           139.000000  139.000000  139.000000\nmean   4.361565e+04             7.563597  253.587820   42.997619\nstd    2.692318e+05             3.867904  123.443482   18.779230\nmin    1.000000e+00             0.990000   79.370000    8.000000\n25%    3.220000e+02             4.940000  153.500000   27.900000\n50%    2.101000e+03             7.070000  237.372000   43.400000\n75%    1.077300e+04             9.215000  322.356000   54.750000\nmax    3.099467e+06            22.020000  724.417000   91.900000",
      "text/html": "<div>\n<style scoped>\n    .dataframe tbody tr th:only-of-type {\n        vertical-align: middle;\n    }\n\n    .dataframe tbody tr th {\n        vertical-align: top;\n    }\n\n    .dataframe thead th {\n        text-align: right;\n    }\n</style>\n<table border=\"1\" class=\"dataframe\">\n  <thead>\n    <tr style=\"text-align: right;\">\n      <th></th>\n      <th>total_deaths</th>\n      <th>diabetes_prevalence</th>\n      <th>cvd_rate</th>\n      <th>n_smokers</th>\n    </tr>\n  </thead>\n  <tbody>\n    <tr>\n      <th>count</th>\n      <td>1.390000e+02</td>\n      <td>139.000000</td>\n      <td>139.000000</td>\n      <td>139.000000</td>\n    </tr>\n    <tr>\n      <th>mean</th>\n      <td>4.361565e+04</td>\n      <td>7.563597</td>\n      <td>253.587820</td>\n      <td>42.997619</td>\n    </tr>\n    <tr>\n      <th>std</th>\n      <td>2.692318e+05</td>\n      <td>3.867904</td>\n      <td>123.443482</td>\n      <td>18.779230</td>\n    </tr>\n    <tr>\n      <th>min</th>\n      <td>1.000000e+00</td>\n      <td>0.990000</td>\n      <td>79.370000</td>\n      <td>8.000000</td>\n    </tr>\n    <tr>\n      <th>25%</th>\n      <td>3.220000e+02</td>\n      <td>4.940000</td>\n      <td>153.500000</td>\n      <td>27.900000</td>\n    </tr>\n    <tr>\n      <th>50%</th>\n      <td>2.101000e+03</td>\n      <td>7.070000</td>\n      <td>237.372000</td>\n      <td>43.400000</td>\n    </tr>\n    <tr>\n      <th>75%</th>\n      <td>1.077300e+04</td>\n      <td>9.215000</td>\n      <td>322.356000</td>\n      <td>54.750000</td>\n    </tr>\n    <tr>\n      <th>max</th>\n      <td>3.099467e+06</td>\n      <td>22.020000</td>\n      <td>724.417000</td>\n      <td>91.900000</td>\n    </tr>\n  </tbody>\n</table>\n</div>"
     },
     "metadata": {},
     "output_type": "display_data"
    }
   ],
   "source": [
    "display(df_bis.describe())\n",
    "\n",
    "# We can see below a short summary of the data, like the mean or the max value for each metric."
   ]
  },
  {
   "cell_type": "markdown",
   "metadata": {},
   "source": [
    "## (Multivariate) Linear regression assumption of linearity"
   ]
  },
  {
   "cell_type": "code",
   "execution_count": 49,
   "metadata": {},
   "outputs": [
    {
     "name": "stderr",
     "output_type": "stream",
     "text": [
      "c:\\users\\jeroe\\pycharmprojects\\aihackcovid\\venv\\lib\\site-packages\\statsmodels\\graphics\\gofplots.py:993: UserWarning: marker is redundantly defined by the 'marker' keyword argument and the fmt string \"bo\" (-> marker='o'). The keyword argument will take precedence.\n",
      "  ax.plot(x, y, fmt, **plot_style)\n"
     ]
    },
    {
     "data": {
      "text/plain": "<Figure size 432x288 with 1 Axes>",
      "image/png": "[encoded data removed]"
     },
     "metadata": {
      "needs_background": "light"
     },
     "output_type": "display_data"
    },
    {
     "name": "stderr",
     "output_type": "stream",
     "text": [
      "c:\\users\\jeroe\\pycharmprojects\\aihackcovid\\venv\\lib\\site-packages\\statsmodels\\graphics\\gofplots.py:993: UserWarning: marker is redundantly defined by the 'marker' keyword argument and the fmt string \"bo\" (-> marker='o'). The keyword argument will take precedence.\n",
      "  ax.plot(x, y, fmt, **plot_style)\n"
     ]
    },
    {
     "data": {
      "text/plain": "<Figure size 432x288 with 1 Axes>",
      "image/png": "[encoded data removed]"
     },
     "metadata": {
      "needs_background": "light"
     },
     "output_type": "display_data"
    },
    {
     "name": "stderr",
     "output_type": "stream",
     "text": [
      "c:\\users\\jeroe\\pycharmprojects\\aihackcovid\\venv\\lib\\site-packages\\statsmodels\\graphics\\gofplots.py:993: UserWarning: marker is redundantly defined by the 'marker' keyword argument and the fmt string \"bo\" (-> marker='o'). The keyword argument will take precedence.\n",
      "  ax.plot(x, y, fmt, **plot_style)\n"
     ]
    },
    {
     "data": {
      "text/plain": "<Figure size 432x288 with 1 Axes>",
      "image/png": "[encoded data removed]"
     },
     "metadata": {
      "needs_background": "light"
     },
     "output_type": "display_data"
    },
    {
     "name": "stdout",
     "output_type": "stream",
     "text": [
      "The data can be considered normally distributed.\n"
     ]
    }
   ],
   "source": [
    "'''\n",
    "Verify normal distribution with, for example, a q-q plot, which\n",
    "compares our data with a Gaussian distribution (or normal distribution)\n",
    "'''\n",
    "from statsmodels.graphics.gofplots import qqplot\n",
    "from matplotlib import pyplot\n",
    "\n",
    "# q-q plot\n",
    "qqplot(df_bis['diabetes_prevalence'], line='s')\n",
    "pyplot.show()\n",
    "\n",
    "qqplot(df_bis['cvd_rate'], line='s')\n",
    "pyplot.show()\n",
    "\n",
    "qqplot(df_bis['n_smokers'], line='s')\n",
    "pyplot.show()\n",
    "\n",
    "print('The data can be considered normally distributed.')"
   ]
  },
  {
   "cell_type": "code",
   "execution_count": 50,
   "metadata": {},
   "outputs": [
    {
     "name": "stdout",
     "output_type": "stream",
     "text": [
      "7.249826452738661\n",
      "[-0.0086038  -0.00418358  0.03550622]\n",
      "\n",
      "Actual values:\n"
     ]
    },
    {
     "data": {
      "text/plain": "     country         \n8    Bahamas              5.278115\n90   Niger                5.252273\n120  Tanzania             3.044522\n109  Sierra Leone         4.369448\n27   Comoros              4.983607\n101  Qatar                6.035481\n60   Italy               11.687055\n96   Papua New Guinea     4.624973\n113  South Africa        10.899051\n121  Thailand             4.859812\n26   Colombia            11.168828\n89   New Zealand          3.258097\n24   Chile               10.155879\n110  Singapore            3.401197\n91   Nigeria              7.630947\n59   Israel               8.756210\n135  World               14.946741\n51   Greece               9.205328\n119  Switzerland          9.268043\n106  Senegal              7.002156\n33   Czechia             10.272289\n22   Canada              10.082136\n2    Andorra              4.820282\n118  Sweden               9.541297\n62   Japan                9.199279\n18   Brunei               1.098612\n10   Bangladesh           9.301277\n54   Iceland              3.367296\nName: total_deaths, dtype: float64"
     },
     "metadata": {},
     "output_type": "display_data"
    },
    {
     "name": "stdout",
     "output_type": "stream",
     "text": [
      "\n",
      "Predicted values:\n"
     ]
    },
    {
     "data": {
      "text/plain": "array([6.98377864, 6.78224194, 7.35649992, 7.64518769, 7.04771492,\n       7.35201756, 8.42542025, 7.31601519])"
     },
     "metadata": {},
     "output_type": "display_data"
    }
   ],
   "source": [
    "from sklearn.linear_model import LinearRegression\n",
    "from sklearn.model_selection import train_test_split\n",
    "import numpy as np\n",
    "\n",
    "y = np.log(df_bis['total_deaths'])\n",
    "x = df_bis[['diabetes_prevalence', 'cvd_rate', 'n_smokers']]\n",
    "\n",
    "x_train, x_test, y_train, y_test = train_test_split(x, y, test_size=0.2, random_state=0)\n",
    "\n",
    "# define model\n",
    "linear_regression = LinearRegression()\n",
    "\n",
    "# fitting the model\n",
    "linear_regression.fit(x_train,y_train)\n",
    "\n",
    "print(linear_regression.intercept_)\n",
    "print(linear_regression.coef_)\n",
    "\n",
    "# predict with the data\n",
    "y_pred = linear_regression.predict(x_test)\n",
    "\n",
    "print()\n",
    "print('Actual values:')\n",
    "display(y_test)\n",
    "print()\n",
    "print('Predicted values:')\n",
    "display(y_pred[0:8])"
   ]
  },
  {
   "cell_type": "code",
   "execution_count": 51,
   "metadata": {
    "scrolled": true
   },
   "outputs": [
    {
     "data": {
      "text/plain": "<AxesSubplot:xlabel='total_deaths'>"
     },
     "execution_count": 51,
     "metadata": {},
     "output_type": "execute_result"
    },
    {
     "data": {
      "text/plain": "<Figure size 432x288 with 1 Axes>",
      "image/png": "[encoded data removed]"
     },
     "metadata": {
      "needs_background": "light"
     },
     "output_type": "display_data"
    }
   ],
   "source": [
    "import seaborn as sb\n",
    "\n",
    "sb.regplot(x=y_test, y=y_pred, ci=None, color=\"b\")"
   ]
  },
  {
   "cell_type": "markdown",
   "metadata": {},
   "source": [
    "We get an anedoctal result - the line shows underfitting. Still, the claim can be made, that based on this model and the data, there is a positive influence of the three variables in the total number of Covid-19 caused deaths worldwide, that is, cardiovasculary disease, diabetes and smoking."
   ]
  }
 ],
 "metadata": {
  "kernelspec": {
   "name": "python3",
   "language": "python",
   "display_name": "Python 3"
  },
  "language_info": {
   "codemirror_mode": {
    "name": "ipython",
    "version": 3
   },
   "file_extension": ".py",
   "mimetype": "text/x-python",
   "name": "python",
   "nbconvert_exporter": "python",
   "pygments_lexer": "ipython3",
   "version": "3.7.10"
  }
 },
 "nbformat": 4,
 "nbformat_minor": 5
}
